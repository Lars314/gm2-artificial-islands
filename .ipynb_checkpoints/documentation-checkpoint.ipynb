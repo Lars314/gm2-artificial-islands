{
 "cells": [
  {
   "cell_type": "markdown",
   "metadata": {},
   "source": [
    "## Overview"
   ]
  },
  {
   "cell_type": "markdown",
   "metadata": {},
   "source": [
    "## Configuration\n",
    "\n",
    "Parameters are set using a json configuration file `artificalIslands_config.json`. There are several parameters:\n",
    "\n",
    "#### Particle Parameters\n",
    "\n",
    "`minPulses` : int - The minimum number of pulses in the island\n",
    "\n",
    "`maxPulses` : int - The maximum number of pulses in the island. If this is the same value as minPulses, that many pulses will be generated.\n",
    "\n",
    "`deltaTmin` : float, ns - \n",
    "\n",
    "`deltaTmax` : float, ns - \n",
    "\n",
    "`minTimeOffset` : float, ns - \n",
    "\n",
    "`maxTimeOffset` : float, ns - \n",
    "\n",
    "`eLow` : float, MeV - \n",
    "\n",
    "`eHigh` : float, MeV - \n",
    "\n",
    "#### Crystal Trace Parameters\n",
    "\n",
    "`nPreSamples` : int - \n",
    "\n",
    "`nPostSamples` : int - \n",
    "\n",
    "`samplingRateArtificial` : float, nHz- \n",
    "\n",
    "`minFitEnergy` :float, MeV - \n",
    "\n",
    "#### Method Parameters\n",
    "\n",
    "`normalize` : boolean - \n",
    "\n",
    "`normalizeXtal` : boolean - \n",
    "\n",
    "`doChop` : boolean - \n",
    "\n",
    "`chopThreshold` : float, ADC units - \n",
    "\n",
    "`noise` : boolean - \n",
    "\n",
    "`randomizeTailLength` : boolean - \n",
    "\n",
    "`nTailSamples` : int - \n",
    "\n",
    "`doPedestal` : boolean - \n",
    "\n",
    "`pedestal` : float, ADC units - \n",
    "\n",
    "`energyMethod` : string - \n",
    "\n",
    "`positionMethod` : string - \n",
    "\n",
    "#### Template Parameters\n",
    "\n",
    "`energyCalibrationFcl` : string - \n",
    "\n",
    "`noiseValueFcl` : string - \n",
    "\n",
    "`templateFile` : string - \n",
    "\n",
    "#### Debug Parameters\n",
    " \n",
    "`verbosity` : boolean - "
   ]
  },
  {
   "cell_type": "markdown",
   "metadata": {},
   "source": [
    "## Draw()"
   ]
  },
  {
   "cell_type": "markdown",
   "metadata": {},
   "source": [
    "## Classes"
   ]
  },
  {
   "cell_type": "markdown",
   "metadata": {},
   "source": [
    "### Island Class\n",
    "\n",
    "#### Attributes:\n",
    "\n",
    "\n",
    "#### Methods:\n"
   ]
  },
  {
   "cell_type": "markdown",
   "metadata": {},
   "source": [
    "### Calo Class\n",
    "\n",
    "#### Attributes:\n",
    "\n",
    "\n",
    "#### Methods:\n"
   ]
  },
  {
   "cell_type": "markdown",
   "metadata": {},
   "source": [
    "### Xtal Class\n",
    "\n",
    "#### Attributes:\n",
    "\n",
    "\n",
    "#### Methods:\n"
   ]
  },
  {
   "cell_type": "markdown",
   "metadata": {},
   "source": [
    "### Spline Class\n",
    "\n",
    "#### Attributes:\n",
    "\n",
    "\n",
    "#### Methods:\n"
   ]
  },
  {
   "cell_type": "markdown",
   "metadata": {},
   "source": [
    "### Particle Class\n",
    "\n",
    "#### Attributes:\n",
    "\n",
    "\n",
    "#### Methods:\n"
   ]
  },
  {
   "cell_type": "code",
   "execution_count": null,
   "metadata": {},
   "outputs": [],
   "source": []
  }
 ],
 "metadata": {
  "kernelspec": {
   "display_name": "Python 3",
   "language": "python",
   "name": "python3"
  },
  "language_info": {
   "codemirror_mode": {
    "name": "ipython",
    "version": 3
   },
   "file_extension": ".py",
   "mimetype": "text/x-python",
   "name": "python",
   "nbconvert_exporter": "python",
   "pygments_lexer": "ipython3",
   "version": "3.7.5"
  }
 },
 "nbformat": 4,
 "nbformat_minor": 4
}
